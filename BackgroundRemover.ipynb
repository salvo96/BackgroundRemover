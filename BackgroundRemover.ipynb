{
 "cells": [
  {
   "cell_type": "code",
   "execution_count": null,
   "id": "f0b0dc69",
   "metadata": {},
   "outputs": [],
   "source": [
    "#Look for a model to be trained to perform semantic segmentation\n",
    "#Dataset + related guide: https://idiotdeveloper.com/unet-implementation-in-tensorflow-using-keras-api/\n",
    "#                         https://www.kaggle.com/datasets/b9d4e32be2f57c2901fc9c5cd5f6633be7075f4b32d73348a6d5db245f2c1934\n",
    "\n",
    "#Semantic segmentation using U-Net: https://towardsdatascience.com/understanding-semantic-segmentation-with-unet-6be4f42d4b47"
   ]
  },
  {
   "cell_type": "code",
   "execution_count": 1,
   "id": "1f42c186",
   "metadata": {},
   "outputs": [
    {
     "data": {
      "text/plain": [
       "'/Users/salvo/BackgroundRemover'"
      ]
     },
     "execution_count": 1,
     "metadata": {},
     "output_type": "execute_result"
    }
   ],
   "source": [
    "pwd()"
   ]
  },
  {
   "cell_type": "code",
   "execution_count": null,
   "id": "6fbf692c",
   "metadata": {},
   "outputs": [],
   "source": []
  }
 ],
 "metadata": {
  "kernelspec": {
   "display_name": "Python 3 (ipykernel)",
   "language": "python",
   "name": "python3"
  },
  "language_info": {
   "codemirror_mode": {
    "name": "ipython",
    "version": 3
   },
   "file_extension": ".py",
   "mimetype": "text/x-python",
   "name": "python",
   "nbconvert_exporter": "python",
   "pygments_lexer": "ipython3",
   "version": "3.10.6"
  }
 },
 "nbformat": 4,
 "nbformat_minor": 5
}
